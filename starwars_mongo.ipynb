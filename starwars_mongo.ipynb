{
 "cells": [
  {
   "cell_type": "markdown",
   "id": "fe306534",
   "metadata": {},
   "source": [
    "## PROJECT\n"
   ]
  },
  {
   "cell_type": "markdown",
   "id": "d11be6e6",
   "metadata": {},
   "source": [
    "The data in this database has been pulled from SWAPI - A New Hope. As well as 'people', the API has data on starships. In Python, pull data on all available starships from the API. The \"pilots\" key contains URLs pointing to the characters who pilot the starship. Use these to replace 'pilots' with a list of ObjectIDs from our characters collection, then insert the starships into their own collection. \n",
    "Deliverables:\n",
    "Your python file should: query the API, retrieve the starships (only keep useful fields). Transform the pilot list to contain a list of ObjectIds for the relative characters. Load the final starship documents into a new collection in MongoDB.\n",
    "Extensions for project:\n",
    "Improve your code by adding error handling, commenting, unit testing, etc. try to use look up function to bring those up from mongo db.\n"
   ]
  },
  {
   "cell_type": "code",
   "execution_count": 9,
   "id": "441f5762",
   "metadata": {},
   "outputs": [],
   "source": [
    "import requests\n",
    "import json\n",
    "from pymongo import MongoClient"
   ]
  },
  {
   "cell_type": "markdown",
   "id": "4643ec9b",
   "metadata": {},
   "source": [
    "#### 1. FETCH ALL STARSHIPS FROM THE SWAPI API"
   ]
  },
  {
   "cell_type": "code",
   "execution_count": 10,
   "id": "d03861bc",
   "metadata": {},
   "outputs": [],
   "source": [
    "def fetch_api_data(url):\n",
    "    \"\"\"Fetch all starships from the SWAPI API\"\"\"\n",
    "    starship_list = []\n",
    "    try:\n",
    "        while url:\n",
    "            response = requests.get(url)\n",
    "            response.raise_for_status()\n",
    "            data = response.json()\n",
    "            starship_list.extend(data[\"results\"])\n",
    "            url = data[\"next\"]\n",
    "        return starship_list\n",
    "    except requests.exceptions.RequestException as e:\n",
    "        print(f\"Error fetching data from API: {e}\")\n",
    "    except ValueError as ve:\n",
    "        print(f\"JSON parsing error: {ve}\")\n",
    "    except KeyError as ke:\n",
    "        print(f\"Missing expected key: {ke}\")\n",
    "    return []\n"
   ]
  },
  {
   "cell_type": "markdown",
   "id": "8a58e7ea",
   "metadata": {},
   "source": [
    "#### 2. GET DETAILED DATA FOR EACH STARSHIP"
   ]
  },
  {
   "cell_type": "code",
   "execution_count": 11,
   "id": "95fb10d9",
   "metadata": {},
   "outputs": [],
   "source": [
    "def get_detailed_starships(starships):\n",
    "    \"\"\"Retrieve full details for each starship.\"\"\"\n",
    "    detailed_starships = []\n",
    "    for ship in starships:\n",
    "        try:\n",
    "            response = requests.get(ship['url'])\n",
    "            response.raise_for_status()\n",
    "            starship_data = response.json()\n",
    "            detailed_starships.append(starship_data['result']['properties'])\n",
    "        except requests.exceptions.RequestException as e:\n",
    "            print(f\"Failed to fetch details for {ship['url']}: {e}\")\n",
    "    return detailed_starships"
   ]
  },
  {
   "cell_type": "markdown",
   "id": "e2702e19",
   "metadata": {},
   "source": [
    "#### 3. COPY REQUIRED FIELDS FROM EACH STARSHIP"
   ]
  },
  {
   "cell_type": "code",
   "execution_count": 12,
   "id": "d9bd8bbe",
   "metadata": {},
   "outputs": [],
   "source": [
    "def filter_starship_fields(detailed_starships):\n",
    "    \"\"\"Filter only necessary fields from the detailed starship data.\"\"\"\n",
    "    keys_to_keep = [\n",
    "        \"name\", \"manufacturer\", \"cargo_capacity\", \"length\",\n",
    "        \"max_atmosphering_speed\", \"cost_in_credits\", \"crew\",\n",
    "        \"passengers\", \"pilots\"\n",
    "    ]\n",
    "    filtered = []\n",
    "    for starship in detailed_starships:\n",
    "        try:\n",
    "            filtered.append({key: starship[key] for key in keys_to_keep})\n",
    "        except KeyError as e:\n",
    "            print(f\"Missing key during filtering: {e}\")\n",
    "    return filtered"
   ]
  },
  {
   "cell_type": "markdown",
   "id": "8120e6a0",
   "metadata": {},
   "source": [
    "#### 4. REPLACE PILOT URLs WITH NAMES"
   ]
  },
  {
   "cell_type": "code",
   "execution_count": 13,
   "id": "53bda507",
   "metadata": {},
   "outputs": [],
   "source": [
    "def resolve_pilot_names(starships):\n",
    "    \"\"\"Replace pilot URLs with a list of pilot names.\"\"\"\n",
    "    for ship in starships:\n",
    "        pilot_urls = ship.get('pilots', [])\n",
    "        pilot_names = []\n",
    "        for url in pilot_urls:\n",
    "            try:\n",
    "                response = requests.get(url)\n",
    "                response.raise_for_status()\n",
    "                pilot_data = response.json()\n",
    "                name = pilot_data['result']['properties']['name']\n",
    "                pilot_names.append({\"name\": name})\n",
    "            except requests.exceptions.RequestException as e:\n",
    "                print(f\"Error fetching pilot data from {url}: {e}\")\n",
    "        ship['pilots'] = pilot_names\n",
    "    return starships\n"
   ]
  },
  {
   "cell_type": "markdown",
   "id": "2917cddc",
   "metadata": {},
   "source": [
    "#### 5. REPLACE PILOT URLs WITH MONGODB OBJECT IDs"
   ]
  },
  {
   "cell_type": "code",
   "execution_count": 14,
   "id": "efa8b0e1",
   "metadata": {},
   "outputs": [],
   "source": [
    "\n",
    "def map_pilots_to_object_ids(starships, db):\n",
    "    \"\"\"Map pilot names to their ObjectIds in MongoDB.\"\"\"\n",
    "    for ship in starships:\n",
    "        pilot_entries = []\n",
    "        for pilot in ship.get('pilots', []):\n",
    "            name = pilot.get('name')\n",
    "            result = db.full_characters.find_one({\"name\": name}, {\"_id\": 1})\n",
    "            pilot_entries.append({\n",
    "                \"name\": name,\n",
    "                \"_id\": str(result[\"_id\"]) if result else None\n",
    "            })\n",
    "        ship['pilots'] = pilot_entries\n",
    "    return starships"
   ]
  },
  {
   "cell_type": "markdown",
   "id": "3384630c",
   "metadata": {},
   "source": [
    "#### 6. INSERT FINAL STARSHIP DOCUMENT INTO MONGODB\n"
   ]
  },
  {
   "cell_type": "code",
   "execution_count": 15,
   "id": "b45c7182",
   "metadata": {},
   "outputs": [],
   "source": [
    "def insert_starships_into_mongodb(starships, db):\n",
    "    \"\"\"Insert the starships into the MongoDB 'starships' collection.\"\"\"\n",
    "    try:\n",
    "        db.starships.delete_many({})\n",
    "        db.starships.insert_many(starships)\n",
    "        print(f\"Inserted {len(starships)} starships into MongoDB.\")\n",
    "    except Exception as e:\n",
    "        print(f\"Failed to insert starships: {e}\")"
   ]
  },
  {
   "cell_type": "markdown",
   "id": "ca1ebd3b",
   "metadata": {},
   "source": [
    "## MAIN EXECUTION\n"
   ]
  },
  {
   "cell_type": "code",
   "execution_count": 16,
   "id": "d1f6a61f",
   "metadata": {},
   "outputs": [
    {
     "name": "stdout",
     "output_type": "stream",
     "text": [
      "Inserted 36 starships into MongoDB.\n"
     ]
    }
   ],
   "source": [
    "def main():\n",
    "    # MongoDB setup\n",
    "    client = MongoClient()\n",
    "    db = client['starwars']\n",
    "\n",
    "    # Step 1: Fetch base starship data\n",
    "    base_starships = fetch_api_data(\"https://www.swapi.tech/api/starships\")\n",
    "    if not base_starships:\n",
    "        print(\"No starships fetched.\")\n",
    "        return\n",
    "\n",
    "    # Step 2: Get full starship details\n",
    "    detailed_starships = get_detailed_starships(base_starships)\n",
    "\n",
    "    # Step 3: Filter for necessary fields\n",
    "    filtered_starships = filter_starship_fields(detailed_starships)\n",
    "\n",
    "    # Step 4: Replace pilot URLs with names\n",
    "    resolved_starships = resolve_pilot_names(filtered_starships)\n",
    "\n",
    "    # Step 5: Replace pilot names with ObjectIds from MongoDB\n",
    "    final_starships = map_pilots_to_object_ids(resolved_starships, db)\n",
    "\n",
    "    # Step 6: Insert final documents into MongoDB\n",
    "    insert_starships_into_mongodb(final_starships, db)\n",
    "\n",
    "if __name__ == \"__main__\":\n",
    "    main()"
   ]
  }
 ],
 "metadata": {
  "kernelspec": {
   "display_name": "Python 3",
   "language": "python",
   "name": "python3"
  },
  "language_info": {
   "codemirror_mode": {
    "name": "ipython",
    "version": 3
   },
   "file_extension": ".py",
   "mimetype": "text/x-python",
   "name": "python",
   "nbconvert_exporter": "python",
   "pygments_lexer": "ipython3",
   "version": "3.12.4"
  }
 },
 "nbformat": 4,
 "nbformat_minor": 5
}
